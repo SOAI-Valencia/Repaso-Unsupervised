{
  "nbformat": 4,
  "nbformat_minor": 0,
  "metadata": {
    "colab": {
      "name": "K-meansipynb",
      "provenance": []
    },
    "kernelspec": {
      "name": "python3",
      "display_name": "Python 3"
    }
  },
  "cells": [
    {
      "cell_type": "code",
      "metadata": {
        "id": "rz-yShO9tHNk",
        "colab_type": "code",
        "colab": {}
      },
      "source": [
        "import numpy as np\n",
        "import pandas as pd\n",
        "import matplotlib.pyplot as plt\n",
        "import seaborn as sns\n",
        "sns.set()"
      ],
      "execution_count": 0,
      "outputs": []
    },
    {
      "cell_type": "code",
      "metadata": {
        "id": "ZwHMNQmKvXfk",
        "colab_type": "code",
        "outputId": "c0d3cd24-7659-4fe5-a51c-67a5ca8f601d",
        "colab": {
          "base_uri": "https://localhost:8080/",
          "height": 132
        }
      },
      "source": [
        "from google.colab import drive\n",
        "drive.mount('/content/drive')"
      ],
      "execution_count": 0,
      "outputs": [
        {
          "output_type": "stream",
          "text": [
            "Go to this URL in a browser: https://accounts.google.com/o/oauth2/auth?client_id=947318989803-6bn6qk8qdgf4n4g3pfee6491hc0brc4i.apps.googleusercontent.com&redirect_uri=urn%3Aietf%3Awg%3Aoauth%3A2.0%3Aoob&scope=email%20https%3A%2F%2Fwww.googleapis.com%2Fauth%2Fdocs.test%20https%3A%2F%2Fwww.googleapis.com%2Fauth%2Fdrive%20https%3A%2F%2Fwww.googleapis.com%2Fauth%2Fdrive.photos.readonly%20https%3A%2F%2Fwww.googleapis.com%2Fauth%2Fpeopleapi.readonly&response_type=code\n",
            "\n",
            "Enter your authorization code:\n",
            "··········\n",
            "Mounted at /content/drive\n"
          ],
          "name": "stdout"
        }
      ]
    },
    {
      "cell_type": "code",
      "metadata": {
        "id": "RVTzemV4vCKp",
        "colab_type": "code",
        "outputId": "75202559-01bb-447f-9853-9845522f6d48",
        "colab": {
          "base_uri": "https://localhost:8080/",
          "height": 204
        }
      },
      "source": [
        "data = pd.read_csv(\"./satisfaction.csv\")\n",
        "data.head()"
      ],
      "execution_count": 0,
      "outputs": [
        {
          "output_type": "execute_result",
          "data": {
            "text/html": [
              "<div>\n",
              "<style scoped>\n",
              "    .dataframe tbody tr th:only-of-type {\n",
              "        vertical-align: middle;\n",
              "    }\n",
              "\n",
              "    .dataframe tbody tr th {\n",
              "        vertical-align: top;\n",
              "    }\n",
              "\n",
              "    .dataframe thead th {\n",
              "        text-align: right;\n",
              "    }\n",
              "</style>\n",
              "<table border=\"1\" class=\"dataframe\">\n",
              "  <thead>\n",
              "    <tr style=\"text-align: right;\">\n",
              "      <th></th>\n",
              "      <th>Satisfaction</th>\n",
              "      <th>Loyalty</th>\n",
              "    </tr>\n",
              "  </thead>\n",
              "  <tbody>\n",
              "    <tr>\n",
              "      <th>0</th>\n",
              "      <td>4</td>\n",
              "      <td>-1.33</td>\n",
              "    </tr>\n",
              "    <tr>\n",
              "      <th>1</th>\n",
              "      <td>6</td>\n",
              "      <td>-0.28</td>\n",
              "    </tr>\n",
              "    <tr>\n",
              "      <th>2</th>\n",
              "      <td>5</td>\n",
              "      <td>-0.99</td>\n",
              "    </tr>\n",
              "    <tr>\n",
              "      <th>3</th>\n",
              "      <td>7</td>\n",
              "      <td>-0.29</td>\n",
              "    </tr>\n",
              "    <tr>\n",
              "      <th>4</th>\n",
              "      <td>4</td>\n",
              "      <td>1.06</td>\n",
              "    </tr>\n",
              "  </tbody>\n",
              "</table>\n",
              "</div>"
            ],
            "text/plain": [
              "   Satisfaction  Loyalty\n",
              "0             4    -1.33\n",
              "1             6    -0.28\n",
              "2             5    -0.99\n",
              "3             7    -0.29\n",
              "4             4     1.06"
            ]
          },
          "metadata": {
            "tags": []
          },
          "execution_count": 5
        }
      ]
    },
    {
      "cell_type": "code",
      "metadata": {
        "id": "TUBZ4NqWvxec",
        "colab_type": "code",
        "outputId": "1d9af707-5d22-4e3e-dcd2-5358ac2f5830",
        "colab": {
          "base_uri": "https://localhost:8080/",
          "height": 286
        }
      },
      "source": [
        "plt.scatter(data[\"Satisfaction\"], data[\"Loyalty\"])\n",
        "plt.xlabel(\"Satisfaction\")\n",
        "plt.ylabel(\"Loyalty\")\n",
        "plt.show()"
      ],
      "execution_count": 0,
      "outputs": [
        {
          "output_type": "display_data",
          "data": {
            "image/png": "[encoded data removed]",
            "text/plain": [
              "<Figure size 432x288 with 1 Axes>"
            ]
          },
          "metadata": {
            "tags": []
          }
        }
      ]
    },
    {
      "cell_type": "code",
      "metadata": {
        "id": "1QA79NI8wA6Q",
        "colab_type": "code",
        "outputId": "272cc4b5-6118-4053-dfc7-8637b288ed66",
        "colab": {
          "base_uri": "https://localhost:8080/",
          "height": 74
        }
      },
      "source": [
        "from sklearn.cluster import KMeans\n",
        "x =data.copy()\n",
        "kmeans = KMeans(2)\n",
        "\n",
        "kmeans.fit(x)"
      ],
      "execution_count": 0,
      "outputs": [
        {
          "output_type": "execute_result",
          "data": {
            "text/plain": [
              "KMeans(algorithm='auto', copy_x=True, init='k-means++', max_iter=300,\n",
              "       n_clusters=2, n_init=10, n_jobs=None, precompute_distances='auto',\n",
              "       random_state=None, tol=0.0001, verbose=0)"
            ]
          },
          "metadata": {
            "tags": []
          },
          "execution_count": 7
        }
      ]
    },
    {
      "cell_type": "code",
      "metadata": {
        "id": "Ul8J5FJIwnop",
        "colab_type": "code",
        "outputId": "cc8536e8-77d4-4a0d-8180-0e9323468605",
        "colab": {
          "base_uri": "https://localhost:8080/",
          "height": 204
        }
      },
      "source": [
        "clusters = x.copy()\n",
        "clusters['cluster_pred'] = kmeans.fit_predict(x)\n",
        "clusters.head()"
      ],
      "execution_count": 0,
      "outputs": [
        {
          "output_type": "execute_result",
          "data": {
            "text/html": [
              "<div>\n",
              "<style scoped>\n",
              "    .dataframe tbody tr th:only-of-type {\n",
              "        vertical-align: middle;\n",
              "    }\n",
              "\n",
              "    .dataframe tbody tr th {\n",
              "        vertical-align: top;\n",
              "    }\n",
              "\n",
              "    .dataframe thead th {\n",
              "        text-align: right;\n",
              "    }\n",
              "</style>\n",
              "<table border=\"1\" class=\"dataframe\">\n",
              "  <thead>\n",
              "    <tr style=\"text-align: right;\">\n",
              "      <th></th>\n",
              "      <th>Satisfaction</th>\n",
              "      <th>Loyalty</th>\n",
              "      <th>cluster_pred</th>\n",
              "    </tr>\n",
              "  </thead>\n",
              "  <tbody>\n",
              "    <tr>\n",
              "      <th>0</th>\n",
              "      <td>4</td>\n",
              "      <td>-1.33</td>\n",
              "      <td>1</td>\n",
              "    </tr>\n",
              "    <tr>\n",
              "      <th>1</th>\n",
              "      <td>6</td>\n",
              "      <td>-0.28</td>\n",
              "      <td>1</td>\n",
              "    </tr>\n",
              "    <tr>\n",
              "      <th>2</th>\n",
              "      <td>5</td>\n",
              "      <td>-0.99</td>\n",
              "      <td>1</td>\n",
              "    </tr>\n",
              "    <tr>\n",
              "      <th>3</th>\n",
              "      <td>7</td>\n",
              "      <td>-0.29</td>\n",
              "      <td>0</td>\n",
              "    </tr>\n",
              "    <tr>\n",
              "      <th>4</th>\n",
              "      <td>4</td>\n",
              "      <td>1.06</td>\n",
              "      <td>1</td>\n",
              "    </tr>\n",
              "  </tbody>\n",
              "</table>\n",
              "</div>"
            ],
            "text/plain": [
              "   Satisfaction  Loyalty  cluster_pred\n",
              "0             4    -1.33             1\n",
              "1             6    -0.28             1\n",
              "2             5    -0.99             1\n",
              "3             7    -0.29             0\n",
              "4             4     1.06             1"
            ]
          },
          "metadata": {
            "tags": []
          },
          "execution_count": 8
        }
      ]
    },
    {
      "cell_type": "code",
      "metadata": {
        "id": "8Ep_PFDOxY6l",
        "colab_type": "code",
        "outputId": "606205bb-096c-4547-c8f0-48be316bbf11",
        "colab": {
          "base_uri": "https://localhost:8080/",
          "height": 286
        }
      },
      "source": [
        "plt.scatter(clusters['Satisfaction'], clusters['Loyalty'], c=clusters['cluster_pred'],  cmap='rainbow')\n",
        "plt.xlabel(\"Satisfaction\")\n",
        "plt.ylabel(\"Loyalty\")\n",
        "plt.show()"
      ],
      "execution_count": 0,
      "outputs": [
        {
          "output_type": "display_data",
          "data": {
            "image/png": "[encoded data removed]",
            "text/plain": [
              "<Figure size 432x288 with 1 Axes>"
            ]
          },
          "metadata": {
            "tags": []
          }
        }
      ]
    },
    {
      "cell_type": "code",
      "metadata": {
        "id": "jPqYBcsPyeqF",
        "colab_type": "code",
        "outputId": "e75ec6c9-4e17-4457-887e-189ae8181a5f",
        "colab": {
          "base_uri": "https://localhost:8080/",
          "height": 587
        }
      },
      "source": [
        "from sklearn import preprocessing\n",
        "x_scaled = preprocessing.scale(x)\n",
        "x_scaled"
      ],
      "execution_count": 0,
      "outputs": [
        {
          "output_type": "execute_result",
          "data": {
            "text/plain": [
              "array([[-0.93138063, -1.3318111 ],\n",
              "       [-0.15523011, -0.28117124],\n",
              "       [-0.54330537, -0.99160391],\n",
              "       [ 0.23284516, -0.29117733],\n",
              "       [-0.93138063,  1.05964534],\n",
              "       [-2.09560642, -1.6620122 ],\n",
              "       [ 1.39707095, -0.97159172],\n",
              "       [ 0.62092042, -0.32119561],\n",
              "       [ 0.62092042,  1.01962097],\n",
              "       [ 0.62092042,  0.67941378],\n",
              "       [ 1.39707095, -0.3412078 ],\n",
              "       [-0.54330537,  0.38923705],\n",
              "       [-0.54330537, -1.69203048],\n",
              "       [-1.70753116,  0.66940768],\n",
              "       [ 0.23284516,  0.26916393],\n",
              "       [ 1.00899568,  1.35982816],\n",
              "       [ 0.62092042,  1.37984035],\n",
              "       [ 0.23284516,  1.35982816],\n",
              "       [ 0.23284516, -0.3412078 ],\n",
              "       [ 1.00899568,  0.66940768],\n",
              "       [ 1.39707095,  1.17971847],\n",
              "       [-1.31945589, -1.69203048],\n",
              "       [-0.93138063,  1.03963316],\n",
              "       [-1.31945589, -0.96158562],\n",
              "       [-0.15523011,  1.02962706],\n",
              "       [ 1.00899568, -0.99160391],\n",
              "       [ 1.39707095,  0.36922486],\n",
              "       [ 1.00899568,  0.02901767],\n",
              "       [-1.31945589, -1.36182938],\n",
              "       [-0.54330537,  0.72944425]])"
            ]
          },
          "metadata": {
            "tags": []
          },
          "execution_count": 10
        }
      ]
    },
    {
      "cell_type": "code",
      "metadata": {
        "id": "Mt9-PJam7YAJ",
        "colab_type": "code",
        "outputId": "c47b5571-aa43-4e9e-9ce7-100204de22ef",
        "colab": {
          "base_uri": "https://localhost:8080/",
          "height": 286
        }
      },
      "source": [
        "kmeans = KMeans(2)\n",
        "\n",
        "kmeans.fit(x_scaled)\n",
        "\n",
        "clusters = x.copy()\n",
        "prediction = kmeans.fit_predict(x_scaled)\n",
        "clusters.head()\n",
        "clusters['cluster_pred'] = kmeans.fit_predict(x)\n",
        "\n",
        "\n",
        "plt.scatter(clusters['Satisfaction'], clusters['Loyalty'], c=prediction,  cmap='rainbow')\n",
        "plt.xlabel(\"Satisfaction\")\n",
        "plt.ylabel(\"Loyalty\")\n",
        "plt.show()\n"
      ],
      "execution_count": 0,
      "outputs": [
        {
          "output_type": "display_data",
          "data": {
            "image/png": "[encoded data removed]",
            "text/plain": [
              "<Figure size 432x288 with 1 Axes>"
            ]
          },
          "metadata": {
            "tags": []
          }
        }
      ]
    },
    {
      "cell_type": "code",
      "metadata": {
        "id": "UbFd3CJiyt-P",
        "colab_type": "code",
        "outputId": "3550896d-297b-4aad-c3c5-3757851625e7",
        "colab": {
          "base_uri": "https://localhost:8080/",
          "height": 568
        }
      },
      "source": [
        "#wcss within-cluster sum of squares / varianzia\n",
        "wcss = []\n",
        "\n",
        "for i in range(1, 30):\n",
        "  kmeans = KMeans(i)\n",
        "  kmeans.fit(x_scaled)\n",
        "  wcss.append(kmeans.inertia_)\n",
        "\n",
        "wcss"
      ],
      "execution_count": 0,
      "outputs": [
        {
          "output_type": "execute_result",
          "data": {
            "text/plain": [
              "[60.0,\n",
              " 29.818973034723147,\n",
              " 17.913349527387965,\n",
              " 10.247181805928422,\n",
              " 7.792695153937187,\n",
              " 6.586212092192188,\n",
              " 5.464232350204885,\n",
              " 4.395247193896115,\n",
              " 3.825482330657991,\n",
              " 3.352018568988348,\n",
              " 2.963730070255306,\n",
              " 2.267541771007072,\n",
              " 2.060956111273019,\n",
              " 1.8328895007244854,\n",
              " 1.5687136341572807,\n",
              " 1.4019339666067252,\n",
              " 1.2118028560809673,\n",
              " 0.9716636175522552,\n",
              " 0.7706518173776857,\n",
              " 0.695013697957994,\n",
              " 0.5362608768873279,\n",
              " 0.467984893112209,\n",
              " 0.3227119817275011,\n",
              " 0.24721053307798668,\n",
              " 0.17170908442847233,\n",
              " 0.11383861748989679,\n",
              " 0.0559681505513213,\n",
              " 0.0014517677692203244,\n",
              " 0.00020024383023728806]"
            ]
          },
          "metadata": {
            "tags": []
          },
          "execution_count": 15
        }
      ]
    },
    {
      "cell_type": "code",
      "metadata": {
        "id": "tAWuhrjkzi8o",
        "colab_type": "code",
        "outputId": "e0e86627-9f5d-42dc-d388-e500311afc1e",
        "colab": {
          "base_uri": "https://localhost:8080/",
          "height": 285
        }
      },
      "source": [
        "plt.plot(range(1,30), wcss)\n",
        "plt.xlabel('Nº clusters')\n",
        "plt.ylabel('WCSS')\n",
        "plt.show()"
      ],
      "execution_count": 0,
      "outputs": [
        {
          "output_type": "display_data",
          "data": {
            "image/png": "[encoded data removed]",
            "text/plain": [
              "<Figure size 432x288 with 1 Axes>"
            ]
          },
          "metadata": {
            "tags": []
          }
        }
      ]
    },
    {
      "cell_type": "code",
      "metadata": {
        "id": "aFhvhrB3z_w-",
        "colab_type": "code",
        "outputId": "c2103f68-bee2-450c-c859-ef4a316617cf",
        "colab": {
          "base_uri": "https://localhost:8080/",
          "height": 979
        }
      },
      "source": [
        "kmeans_new = KMeans(4)\n",
        "kmeans.fit(x_scaled)\n",
        "cluster_new = x.copy()\n",
        "cluster_new['cluster_pred'] = kmeans_new.fit_predict(x_scaled)\n",
        "cluster_new"
      ],
      "execution_count": 0,
      "outputs": [
        {
          "output_type": "execute_result",
          "data": {
            "text/html": [
              "<div>\n",
              "<style scoped>\n",
              "    .dataframe tbody tr th:only-of-type {\n",
              "        vertical-align: middle;\n",
              "    }\n",
              "\n",
              "    .dataframe tbody tr th {\n",
              "        vertical-align: top;\n",
              "    }\n",
              "\n",
              "    .dataframe thead th {\n",
              "        text-align: right;\n",
              "    }\n",
              "</style>\n",
              "<table border=\"1\" class=\"dataframe\">\n",
              "  <thead>\n",
              "    <tr style=\"text-align: right;\">\n",
              "      <th></th>\n",
              "      <th>Satisfaction</th>\n",
              "      <th>Loyalty</th>\n",
              "      <th>cluster_pred</th>\n",
              "    </tr>\n",
              "  </thead>\n",
              "  <tbody>\n",
              "    <tr>\n",
              "      <th>0</th>\n",
              "      <td>4</td>\n",
              "      <td>-1.33</td>\n",
              "      <td>2</td>\n",
              "    </tr>\n",
              "    <tr>\n",
              "      <th>1</th>\n",
              "      <td>6</td>\n",
              "      <td>-0.28</td>\n",
              "      <td>0</td>\n",
              "    </tr>\n",
              "    <tr>\n",
              "      <th>2</th>\n",
              "      <td>5</td>\n",
              "      <td>-0.99</td>\n",
              "      <td>2</td>\n",
              "    </tr>\n",
              "    <tr>\n",
              "      <th>3</th>\n",
              "      <td>7</td>\n",
              "      <td>-0.29</td>\n",
              "      <td>0</td>\n",
              "    </tr>\n",
              "    <tr>\n",
              "      <th>4</th>\n",
              "      <td>4</td>\n",
              "      <td>1.06</td>\n",
              "      <td>3</td>\n",
              "    </tr>\n",
              "    <tr>\n",
              "      <th>5</th>\n",
              "      <td>1</td>\n",
              "      <td>-1.66</td>\n",
              "      <td>2</td>\n",
              "    </tr>\n",
              "    <tr>\n",
              "      <th>6</th>\n",
              "      <td>10</td>\n",
              "      <td>-0.97</td>\n",
              "      <td>0</td>\n",
              "    </tr>\n",
              "    <tr>\n",
              "      <th>7</th>\n",
              "      <td>8</td>\n",
              "      <td>-0.32</td>\n",
              "      <td>0</td>\n",
              "    </tr>\n",
              "    <tr>\n",
              "      <th>8</th>\n",
              "      <td>8</td>\n",
              "      <td>1.02</td>\n",
              "      <td>1</td>\n",
              "    </tr>\n",
              "    <tr>\n",
              "      <th>9</th>\n",
              "      <td>8</td>\n",
              "      <td>0.68</td>\n",
              "      <td>1</td>\n",
              "    </tr>\n",
              "    <tr>\n",
              "      <th>10</th>\n",
              "      <td>10</td>\n",
              "      <td>-0.34</td>\n",
              "      <td>0</td>\n",
              "    </tr>\n",
              "    <tr>\n",
              "      <th>11</th>\n",
              "      <td>5</td>\n",
              "      <td>0.39</td>\n",
              "      <td>3</td>\n",
              "    </tr>\n",
              "    <tr>\n",
              "      <th>12</th>\n",
              "      <td>5</td>\n",
              "      <td>-1.69</td>\n",
              "      <td>2</td>\n",
              "    </tr>\n",
              "    <tr>\n",
              "      <th>13</th>\n",
              "      <td>2</td>\n",
              "      <td>0.67</td>\n",
              "      <td>3</td>\n",
              "    </tr>\n",
              "    <tr>\n",
              "      <th>14</th>\n",
              "      <td>7</td>\n",
              "      <td>0.27</td>\n",
              "      <td>0</td>\n",
              "    </tr>\n",
              "    <tr>\n",
              "      <th>15</th>\n",
              "      <td>9</td>\n",
              "      <td>1.36</td>\n",
              "      <td>1</td>\n",
              "    </tr>\n",
              "    <tr>\n",
              "      <th>16</th>\n",
              "      <td>8</td>\n",
              "      <td>1.38</td>\n",
              "      <td>1</td>\n",
              "    </tr>\n",
              "    <tr>\n",
              "      <th>17</th>\n",
              "      <td>7</td>\n",
              "      <td>1.36</td>\n",
              "      <td>1</td>\n",
              "    </tr>\n",
              "    <tr>\n",
              "      <th>18</th>\n",
              "      <td>7</td>\n",
              "      <td>-0.34</td>\n",
              "      <td>0</td>\n",
              "    </tr>\n",
              "    <tr>\n",
              "      <th>19</th>\n",
              "      <td>9</td>\n",
              "      <td>0.67</td>\n",
              "      <td>1</td>\n",
              "    </tr>\n",
              "    <tr>\n",
              "      <th>20</th>\n",
              "      <td>10</td>\n",
              "      <td>1.18</td>\n",
              "      <td>1</td>\n",
              "    </tr>\n",
              "    <tr>\n",
              "      <th>21</th>\n",
              "      <td>3</td>\n",
              "      <td>-1.69</td>\n",
              "      <td>2</td>\n",
              "    </tr>\n",
              "    <tr>\n",
              "      <th>22</th>\n",
              "      <td>4</td>\n",
              "      <td>1.04</td>\n",
              "      <td>3</td>\n",
              "    </tr>\n",
              "    <tr>\n",
              "      <th>23</th>\n",
              "      <td>3</td>\n",
              "      <td>-0.96</td>\n",
              "      <td>2</td>\n",
              "    </tr>\n",
              "    <tr>\n",
              "      <th>24</th>\n",
              "      <td>6</td>\n",
              "      <td>1.03</td>\n",
              "      <td>3</td>\n",
              "    </tr>\n",
              "    <tr>\n",
              "      <th>25</th>\n",
              "      <td>9</td>\n",
              "      <td>-0.99</td>\n",
              "      <td>0</td>\n",
              "    </tr>\n",
              "    <tr>\n",
              "      <th>26</th>\n",
              "      <td>10</td>\n",
              "      <td>0.37</td>\n",
              "      <td>1</td>\n",
              "    </tr>\n",
              "    <tr>\n",
              "      <th>27</th>\n",
              "      <td>9</td>\n",
              "      <td>0.03</td>\n",
              "      <td>0</td>\n",
              "    </tr>\n",
              "    <tr>\n",
              "      <th>28</th>\n",
              "      <td>3</td>\n",
              "      <td>-1.36</td>\n",
              "      <td>2</td>\n",
              "    </tr>\n",
              "    <tr>\n",
              "      <th>29</th>\n",
              "      <td>5</td>\n",
              "      <td>0.73</td>\n",
              "      <td>3</td>\n",
              "    </tr>\n",
              "  </tbody>\n",
              "</table>\n",
              "</div>"
            ],
            "text/plain": [
              "    Satisfaction  Loyalty  cluster_pred\n",
              "0              4    -1.33             2\n",
              "1              6    -0.28             0\n",
              "2              5    -0.99             2\n",
              "3              7    -0.29             0\n",
              "4              4     1.06             3\n",
              "5              1    -1.66             2\n",
              "6             10    -0.97             0\n",
              "7              8    -0.32             0\n",
              "8              8     1.02             1\n",
              "9              8     0.68             1\n",
              "10            10    -0.34             0\n",
              "11             5     0.39             3\n",
              "12             5    -1.69             2\n",
              "13             2     0.67             3\n",
              "14             7     0.27             0\n",
              "15             9     1.36             1\n",
              "16             8     1.38             1\n",
              "17             7     1.36             1\n",
              "18             7    -0.34             0\n",
              "19             9     0.67             1\n",
              "20            10     1.18             1\n",
              "21             3    -1.69             2\n",
              "22             4     1.04             3\n",
              "23             3    -0.96             2\n",
              "24             6     1.03             3\n",
              "25             9    -0.99             0\n",
              "26            10     0.37             1\n",
              "27             9     0.03             0\n",
              "28             3    -1.36             2\n",
              "29             5     0.73             3"
            ]
          },
          "metadata": {
            "tags": []
          },
          "execution_count": 17
        }
      ]
    },
    {
      "cell_type": "code",
      "metadata": {
        "id": "-5jimm0w0Quj",
        "colab_type": "code",
        "outputId": "ffc1124f-4f55-4f7c-e665-5962b3fcc466",
        "colab": {
          "base_uri": "https://localhost:8080/",
          "height": 286
        }
      },
      "source": [
        "plt.scatter(cluster_new['Satisfaction'], cluster_new['Loyalty'], c=cluster_new['cluster_pred'], cmap = 'rainbow')\n",
        "plt.xlabel('Satisfaction')\n",
        "plt.ylabel('Loyalty')\n",
        "plt.show()"
      ],
      "execution_count": 0,
      "outputs": [
        {
          "output_type": "display_data",
          "data": {
            "image/png": "[encoded data removed]",
            "text/plain": [
              "<Figure size 432x288 with 1 Axes>"
            ]
          },
          "metadata": {
            "tags": []
          }
        }
      ]
    }
  ]
}