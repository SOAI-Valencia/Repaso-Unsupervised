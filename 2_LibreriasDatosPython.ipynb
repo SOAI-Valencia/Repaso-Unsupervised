{
  "nbformat": 4,
  "nbformat_minor": 0,
  "metadata": {
    "colab": {
      "name": "2.-LibreriasDatosPython.ipynb",
      "provenance": [],
      "toc_visible": true
    },
    "kernelspec": {
      "name": "python3",
      "display_name": "Python 3"
    }
  },
  "cells": [
    {
      "cell_type": "markdown",
      "metadata": {
        "id": "S8td8HGcm7Yt",
        "colab_type": "text"
      },
      "source": [
        "#Numpy\n",
        "- Crear vector\n",
        "- Crear matriz\n",
        "- Inizializar vector con valor\n",
        "- Dot product\n",
        "- Flat matriz"
      ]
    },
    {
      "cell_type": "code",
      "metadata": {
        "id": "r8HXM8F8ocRy",
        "colab_type": "code",
        "outputId": "83b703f6-e57c-4990-e015-b974409524e5",
        "colab": {
          "base_uri": "https://localhost:8080/",
          "height": 74
        }
      },
      "source": [
        "import numpy as np\n",
        "\n",
        "vector = np.array([0,1,2])\n",
        "print(vector)\n",
        "print(vector.shape)\n",
        "\n",
        "vector[0] = 6\n",
        "\n",
        "print(vector)"
      ],
      "execution_count": 0,
      "outputs": [
        {
          "output_type": "stream",
          "text": [
            "[0 1 2]\n",
            "(3,)\n",
            "[6 1 2]\n"
          ],
          "name": "stdout"
        }
      ]
    },
    {
      "cell_type": "code",
      "metadata": {
        "id": "DgsOktYNop_8",
        "colab_type": "code",
        "outputId": "4c1c2db8-9ffd-475c-95fc-b626ca0feacd",
        "colab": {
          "base_uri": "https://localhost:8080/",
          "height": 36
        }
      },
      "source": [
        "vector2 = np.array([0,12.2, \"Hola\"])\n",
        "print(vector2)"
      ],
      "execution_count": 0,
      "outputs": [
        {
          "output_type": "stream",
          "text": [
            "['0' '12.2' 'Hola']\n"
          ],
          "name": "stdout"
        }
      ]
    },
    {
      "cell_type": "code",
      "metadata": {
        "id": "_AMUgLcCo3U8",
        "colab_type": "code",
        "outputId": "707d7733-7c19-4740-f7d6-d85a659ea118",
        "colab": {
          "base_uri": "https://localhost:8080/",
          "height": 36
        }
      },
      "source": [
        "zeros = np.zeros(3)\n",
        "zeros"
      ],
      "execution_count": 0,
      "outputs": [
        {
          "output_type": "execute_result",
          "data": {
            "text/plain": [
              "array([0., 0., 0.])"
            ]
          },
          "metadata": {
            "tags": []
          },
          "execution_count": 8
        }
      ]
    },
    {
      "cell_type": "code",
      "metadata": {
        "id": "EaaHvXZUpEA4",
        "colab_type": "code",
        "outputId": "c549fddb-15fc-4113-80d1-bdd48fe3d3d1",
        "colab": {
          "base_uri": "https://localhost:8080/",
          "height": 36
        }
      },
      "source": [
        "ones = np.ones(3)\n",
        "ones"
      ],
      "execution_count": 0,
      "outputs": [
        {
          "output_type": "execute_result",
          "data": {
            "text/plain": [
              "array([1., 1., 1.])"
            ]
          },
          "metadata": {
            "tags": []
          },
          "execution_count": 10
        }
      ]
    },
    {
      "cell_type": "code",
      "metadata": {
        "id": "QilxuNkEo1VA",
        "colab_type": "code",
        "outputId": "a50aa41b-9bdb-4b01-a164-6b4ca56639f8",
        "colab": {
          "base_uri": "https://localhost:8080/",
          "height": 36
        }
      },
      "source": [
        "full = np.full(3, 100)\n",
        "full"
      ],
      "execution_count": 0,
      "outputs": [
        {
          "output_type": "execute_result",
          "data": {
            "text/plain": [
              "array([100, 100, 100])"
            ]
          },
          "metadata": {
            "tags": []
          },
          "execution_count": 11
        }
      ]
    },
    {
      "cell_type": "code",
      "metadata": {
        "id": "0eTvLpZSpK3o",
        "colab_type": "code",
        "outputId": "c86e81a5-bbe2-4635-ec53-2d8bc27dedde",
        "colab": {
          "base_uri": "https://localhost:8080/",
          "height": 55
        }
      },
      "source": [
        "random = np.random.random(3)\n",
        "print(random)\n",
        "\n",
        "random = np.random.randint(1, 100, 3)\n",
        "random"
      ],
      "execution_count": 0,
      "outputs": [
        {
          "output_type": "stream",
          "text": [
            "[0.70515463 0.95380006 0.25123844]\n"
          ],
          "name": "stdout"
        },
        {
          "output_type": "execute_result",
          "data": {
            "text/plain": [
              "array([62,  9, 28])"
            ]
          },
          "metadata": {
            "tags": []
          },
          "execution_count": 18
        }
      ]
    },
    {
      "cell_type": "code",
      "metadata": {
        "id": "xNtSDnM-pOpr",
        "colab_type": "code",
        "outputId": "443a75a7-ab0f-4c16-df49-4a63892bd62a",
        "colab": {
          "base_uri": "https://localhost:8080/",
          "height": 55
        }
      },
      "source": [
        "ordered = np.arange(10)\n",
        "print(ordered)\n",
        "\n",
        "ordered = np.arange(2,3,0.1)\n",
        "ordered"
      ],
      "execution_count": 0,
      "outputs": [
        {
          "output_type": "stream",
          "text": [
            "[0 1 2 3 4 5 6 7 8 9]\n"
          ],
          "name": "stdout"
        },
        {
          "output_type": "execute_result",
          "data": {
            "text/plain": [
              "array([2. , 2.1, 2.2, 2.3, 2.4, 2.5, 2.6, 2.7, 2.8, 2.9])"
            ]
          },
          "metadata": {
            "tags": []
          },
          "execution_count": 14
        }
      ]
    },
    {
      "cell_type": "code",
      "metadata": {
        "id": "NFrznSTmpWfR",
        "colab_type": "code",
        "outputId": "ac6f700e-d44c-4f17-dab7-634fb74f1f0a",
        "colab": {
          "base_uri": "https://localhost:8080/",
          "height": 55
        }
      },
      "source": [
        "matriz = np.ones((2,2))\n",
        "matriz"
      ],
      "execution_count": 0,
      "outputs": [
        {
          "output_type": "execute_result",
          "data": {
            "text/plain": [
              "array([[1., 1.],\n",
              "       [1., 1.]])"
            ]
          },
          "metadata": {
            "tags": []
          },
          "execution_count": 22
        }
      ]
    },
    {
      "cell_type": "code",
      "metadata": {
        "id": "JkNpHC67qQfa",
        "colab_type": "code",
        "outputId": "3ebb9080-6ce3-4f02-ca7b-ce848d8024b7",
        "colab": {
          "base_uri": "https://localhost:8080/",
          "height": 74
        }
      },
      "source": [
        "unit = np.eye(3)\n",
        "unit"
      ],
      "execution_count": 0,
      "outputs": [
        {
          "output_type": "execute_result",
          "data": {
            "text/plain": [
              "array([[1., 0., 0.],\n",
              "       [0., 1., 0.],\n",
              "       [0., 0., 1.]])"
            ]
          },
          "metadata": {
            "tags": []
          },
          "execution_count": 24
        }
      ]
    },
    {
      "cell_type": "code",
      "metadata": {
        "id": "YfVnGxH7qTZn",
        "colab_type": "code",
        "outputId": "d440c317-9a33-4dd9-b0dc-acde1069d439",
        "colab": {
          "base_uri": "https://localhost:8080/",
          "height": 36
        }
      },
      "source": [
        "ordered[:3]"
      ],
      "execution_count": 0,
      "outputs": [
        {
          "output_type": "execute_result",
          "data": {
            "text/plain": [
              "array([2. , 2.1, 2.2])"
            ]
          },
          "metadata": {
            "tags": []
          },
          "execution_count": 25
        }
      ]
    },
    {
      "cell_type": "code",
      "metadata": {
        "id": "UNhYtjqkqdLn",
        "colab_type": "code",
        "outputId": "abe2a4e4-0f50-44af-de37-758a3749d39a",
        "colab": {
          "base_uri": "https://localhost:8080/",
          "height": 55
        }
      },
      "source": [
        "number = np.arange(10)\n",
        "mult2 = number %2 == 0\n",
        "print(mult2)\n",
        "\n",
        "number * 2"
      ],
      "execution_count": 0,
      "outputs": [
        {
          "output_type": "stream",
          "text": [
            "[ True False  True False  True False  True False  True False]\n"
          ],
          "name": "stdout"
        },
        {
          "output_type": "execute_result",
          "data": {
            "text/plain": [
              "array([ 0,  2,  4,  6,  8, 10, 12, 14, 16, 18])"
            ]
          },
          "metadata": {
            "tags": []
          },
          "execution_count": 29
        }
      ]
    },
    {
      "cell_type": "code",
      "metadata": {
        "id": "qzt6leYmq0MH",
        "colab_type": "code",
        "outputId": "a73ceae1-d019-43b8-a540-7bcec9424840",
        "colab": {
          "base_uri": "https://localhost:8080/",
          "height": 112
        }
      },
      "source": [
        "x = np.array([[1,2], [3,4]])\n",
        "y = np.array([[5,6], [7,8]])\n",
        "\n",
        "v = np.array([9,10])\n",
        "\n",
        "print(x.dot(y))\n",
        "print(np.dot(x,y))\n",
        "\n",
        "x.dot(v)"
      ],
      "execution_count": 0,
      "outputs": [
        {
          "output_type": "stream",
          "text": [
            "[[19 22]\n",
            " [43 50]]\n",
            "[[19 22]\n",
            " [43 50]]\n"
          ],
          "name": "stdout"
        },
        {
          "output_type": "execute_result",
          "data": {
            "text/plain": [
              "array([29, 67])"
            ]
          },
          "metadata": {
            "tags": []
          },
          "execution_count": 33
        }
      ]
    },
    {
      "cell_type": "code",
      "metadata": {
        "id": "qo0mwWPdrVnV",
        "colab_type": "code",
        "outputId": "8f532b07-4d02-43d0-84f0-02a1a3eacc51",
        "colab": {
          "base_uri": "https://localhost:8080/",
          "height": 36
        }
      },
      "source": [
        "x.flatten()"
      ],
      "execution_count": 0,
      "outputs": [
        {
          "output_type": "execute_result",
          "data": {
            "text/plain": [
              "array([1, 2, 3, 4])"
            ]
          },
          "metadata": {
            "tags": []
          },
          "execution_count": 34
        }
      ]
    },
    {
      "cell_type": "markdown",
      "metadata": {
        "id": "CXGO-4xrm9Wb",
        "colab_type": "text"
      },
      "source": [
        "# Pandas\n",
        "- Cargar CSV\n",
        "- Ver resumen del dataset ( columnas, estadisticos )\n",
        "- Agrupar por columnas\n",
        "- Filtrar por valores\n",
        "- Ordenar\n",
        "- Sacar operaciones ( sum, avg, mean )"
      ]
    },
    {
      "cell_type": "code",
      "metadata": {
        "id": "FmB7dHZNrfAo",
        "colab_type": "code",
        "colab": {}
      },
      "source": [
        "import pandas as pd"
      ],
      "execution_count": 0,
      "outputs": []
    },
    {
      "cell_type": "code",
      "metadata": {
        "id": "3j_cWpl6UPmR",
        "colab_type": "code",
        "colab": {}
      },
      "source": [
        ""
      ],
      "execution_count": 0,
      "outputs": []
    },
    {
      "cell_type": "code",
      "metadata": {
        "id": "2uj_baD3sc64",
        "colab_type": "code",
        "outputId": "af567fa2-dd28-4d3b-bfe0-720ad5d43242",
        "colab": {
          "base_uri": "https://localhost:8080/",
          "height": 204
        }
      },
      "source": [
        "df = pd.read_csv(\"./satisfaction.csv\")\n",
        "df.head()"
      ],
      "execution_count": 0,
      "outputs": [
        {
          "output_type": "execute_result",
          "data": {
            "text/html": [
              "<div>\n",
              "<style scoped>\n",
              "    .dataframe tbody tr th:only-of-type {\n",
              "        vertical-align: middle;\n",
              "    }\n",
              "\n",
              "    .dataframe tbody tr th {\n",
              "        vertical-align: top;\n",
              "    }\n",
              "\n",
              "    .dataframe thead th {\n",
              "        text-align: right;\n",
              "    }\n",
              "</style>\n",
              "<table border=\"1\" class=\"dataframe\">\n",
              "  <thead>\n",
              "    <tr style=\"text-align: right;\">\n",
              "      <th></th>\n",
              "      <th>Satisfaction</th>\n",
              "      <th>Loyalty</th>\n",
              "    </tr>\n",
              "  </thead>\n",
              "  <tbody>\n",
              "    <tr>\n",
              "      <th>0</th>\n",
              "      <td>4</td>\n",
              "      <td>-1.33</td>\n",
              "    </tr>\n",
              "    <tr>\n",
              "      <th>1</th>\n",
              "      <td>6</td>\n",
              "      <td>-0.28</td>\n",
              "    </tr>\n",
              "    <tr>\n",
              "      <th>2</th>\n",
              "      <td>5</td>\n",
              "      <td>-0.99</td>\n",
              "    </tr>\n",
              "    <tr>\n",
              "      <th>3</th>\n",
              "      <td>7</td>\n",
              "      <td>-0.29</td>\n",
              "    </tr>\n",
              "    <tr>\n",
              "      <th>4</th>\n",
              "      <td>4</td>\n",
              "      <td>1.06</td>\n",
              "    </tr>\n",
              "  </tbody>\n",
              "</table>\n",
              "</div>"
            ],
            "text/plain": [
              "   Satisfaction  Loyalty\n",
              "0             4    -1.33\n",
              "1             6    -0.28\n",
              "2             5    -0.99\n",
              "3             7    -0.29\n",
              "4             4     1.06"
            ]
          },
          "metadata": {
            "tags": []
          },
          "execution_count": 36
        }
      ]
    },
    {
      "cell_type": "code",
      "metadata": {
        "id": "fPBLc9lTshVt",
        "colab_type": "code",
        "outputId": "2a69b994-0e5f-4174-fb71-092662186bf6",
        "colab": {
          "base_uri": "https://localhost:8080/",
          "height": 264
        }
      },
      "source": [
        "print(df.dtypes)\n",
        "print(df.index)\n",
        "print(df.describe())"
      ],
      "execution_count": 0,
      "outputs": [
        {
          "output_type": "stream",
          "text": [
            "Satisfaction      int64\n",
            "Loyalty         float64\n",
            "dtype: object\n",
            "RangeIndex(start=0, stop=30, step=1)\n",
            "       Satisfaction    Loyalty\n",
            "count     30.000000  30.000000\n",
            "mean       6.400000   0.001000\n",
            "std        2.620871   1.016476\n",
            "min        1.000000  -1.690000\n",
            "25%        4.250000  -0.967500\n",
            "50%        7.000000   0.150000\n",
            "75%        8.750000   0.947500\n",
            "max       10.000000   1.380000\n"
          ],
          "name": "stdout"
        }
      ]
    },
    {
      "cell_type": "code",
      "metadata": {
        "id": "z9aYTDOos66s",
        "colab_type": "code",
        "outputId": "942c058a-54f5-4317-ac91-b1811c98af4a",
        "colab": {
          "base_uri": "https://localhost:8080/",
          "height": 663
        }
      },
      "source": [
        "print(df.iloc[1])\n",
        "print(df.iloc[:, 1])"
      ],
      "execution_count": 0,
      "outputs": [
        {
          "output_type": "stream",
          "text": [
            "Satisfaction    6.00\n",
            "Loyalty        -0.28\n",
            "Name: 1, dtype: float64\n",
            "0    -1.33\n",
            "1    -0.28\n",
            "2    -0.99\n",
            "3    -0.29\n",
            "4     1.06\n",
            "5    -1.66\n",
            "6    -0.97\n",
            "7    -0.32\n",
            "8     1.02\n",
            "9     0.68\n",
            "10   -0.34\n",
            "11    0.39\n",
            "12   -1.69\n",
            "13    0.67\n",
            "14    0.27\n",
            "15    1.36\n",
            "16    1.38\n",
            "17    1.36\n",
            "18   -0.34\n",
            "19    0.67\n",
            "20    1.18\n",
            "21   -1.69\n",
            "22    1.04\n",
            "23   -0.96\n",
            "24    1.03\n",
            "25   -0.99\n",
            "26    0.37\n",
            "27    0.03\n",
            "28   -1.36\n",
            "29    0.73\n",
            "Name: Loyalty, dtype: float64\n"
          ],
          "name": "stdout"
        }
      ]
    },
    {
      "cell_type": "code",
      "metadata": {
        "id": "lIZmmPAhtfyf",
        "colab_type": "code",
        "outputId": "d01d4c48-eac6-4893-b9e6-9dd44321cfec",
        "colab": {
          "base_uri": "https://localhost:8080/",
          "height": 204
        }
      },
      "source": [
        "df2 = df[df[\"Satisfaction\"] > 5]\n",
        "df2.head()"
      ],
      "execution_count": 0,
      "outputs": [
        {
          "output_type": "execute_result",
          "data": {
            "text/html": [
              "<div>\n",
              "<style scoped>\n",
              "    .dataframe tbody tr th:only-of-type {\n",
              "        vertical-align: middle;\n",
              "    }\n",
              "\n",
              "    .dataframe tbody tr th {\n",
              "        vertical-align: top;\n",
              "    }\n",
              "\n",
              "    .dataframe thead th {\n",
              "        text-align: right;\n",
              "    }\n",
              "</style>\n",
              "<table border=\"1\" class=\"dataframe\">\n",
              "  <thead>\n",
              "    <tr style=\"text-align: right;\">\n",
              "      <th></th>\n",
              "      <th>Satisfaction</th>\n",
              "      <th>Loyalty</th>\n",
              "    </tr>\n",
              "  </thead>\n",
              "  <tbody>\n",
              "    <tr>\n",
              "      <th>1</th>\n",
              "      <td>6</td>\n",
              "      <td>-0.28</td>\n",
              "    </tr>\n",
              "    <tr>\n",
              "      <th>3</th>\n",
              "      <td>7</td>\n",
              "      <td>-0.29</td>\n",
              "    </tr>\n",
              "    <tr>\n",
              "      <th>6</th>\n",
              "      <td>10</td>\n",
              "      <td>-0.97</td>\n",
              "    </tr>\n",
              "    <tr>\n",
              "      <th>7</th>\n",
              "      <td>8</td>\n",
              "      <td>-0.32</td>\n",
              "    </tr>\n",
              "    <tr>\n",
              "      <th>8</th>\n",
              "      <td>8</td>\n",
              "      <td>1.02</td>\n",
              "    </tr>\n",
              "  </tbody>\n",
              "</table>\n",
              "</div>"
            ],
            "text/plain": [
              "   Satisfaction  Loyalty\n",
              "1             6    -0.28\n",
              "3             7    -0.29\n",
              "6            10    -0.97\n",
              "7             8    -0.32\n",
              "8             8     1.02"
            ]
          },
          "metadata": {
            "tags": []
          },
          "execution_count": 48
        }
      ]
    },
    {
      "cell_type": "code",
      "metadata": {
        "id": "IC4PJxPithEx",
        "colab_type": "code",
        "outputId": "0afa86c8-74b6-4c5b-d1e2-88d66e532c16",
        "colab": {
          "base_uri": "https://localhost:8080/",
          "height": 979
        }
      },
      "source": [
        "df.sort_values(by=\"Satisfaction\")"
      ],
      "execution_count": 0,
      "outputs": [
        {
          "output_type": "execute_result",
          "data": {
            "text/html": [
              "<div>\n",
              "<style scoped>\n",
              "    .dataframe tbody tr th:only-of-type {\n",
              "        vertical-align: middle;\n",
              "    }\n",
              "\n",
              "    .dataframe tbody tr th {\n",
              "        vertical-align: top;\n",
              "    }\n",
              "\n",
              "    .dataframe thead th {\n",
              "        text-align: right;\n",
              "    }\n",
              "</style>\n",
              "<table border=\"1\" class=\"dataframe\">\n",
              "  <thead>\n",
              "    <tr style=\"text-align: right;\">\n",
              "      <th></th>\n",
              "      <th>Satisfaction</th>\n",
              "      <th>Loyalty</th>\n",
              "    </tr>\n",
              "  </thead>\n",
              "  <tbody>\n",
              "    <tr>\n",
              "      <th>5</th>\n",
              "      <td>1</td>\n",
              "      <td>-1.66</td>\n",
              "    </tr>\n",
              "    <tr>\n",
              "      <th>13</th>\n",
              "      <td>2</td>\n",
              "      <td>0.67</td>\n",
              "    </tr>\n",
              "    <tr>\n",
              "      <th>23</th>\n",
              "      <td>3</td>\n",
              "      <td>-0.96</td>\n",
              "    </tr>\n",
              "    <tr>\n",
              "      <th>21</th>\n",
              "      <td>3</td>\n",
              "      <td>-1.69</td>\n",
              "    </tr>\n",
              "    <tr>\n",
              "      <th>28</th>\n",
              "      <td>3</td>\n",
              "      <td>-1.36</td>\n",
              "    </tr>\n",
              "    <tr>\n",
              "      <th>0</th>\n",
              "      <td>4</td>\n",
              "      <td>-1.33</td>\n",
              "    </tr>\n",
              "    <tr>\n",
              "      <th>22</th>\n",
              "      <td>4</td>\n",
              "      <td>1.04</td>\n",
              "    </tr>\n",
              "    <tr>\n",
              "      <th>4</th>\n",
              "      <td>4</td>\n",
              "      <td>1.06</td>\n",
              "    </tr>\n",
              "    <tr>\n",
              "      <th>12</th>\n",
              "      <td>5</td>\n",
              "      <td>-1.69</td>\n",
              "    </tr>\n",
              "    <tr>\n",
              "      <th>11</th>\n",
              "      <td>5</td>\n",
              "      <td>0.39</td>\n",
              "    </tr>\n",
              "    <tr>\n",
              "      <th>29</th>\n",
              "      <td>5</td>\n",
              "      <td>0.73</td>\n",
              "    </tr>\n",
              "    <tr>\n",
              "      <th>2</th>\n",
              "      <td>5</td>\n",
              "      <td>-0.99</td>\n",
              "    </tr>\n",
              "    <tr>\n",
              "      <th>24</th>\n",
              "      <td>6</td>\n",
              "      <td>1.03</td>\n",
              "    </tr>\n",
              "    <tr>\n",
              "      <th>1</th>\n",
              "      <td>6</td>\n",
              "      <td>-0.28</td>\n",
              "    </tr>\n",
              "    <tr>\n",
              "      <th>14</th>\n",
              "      <td>7</td>\n",
              "      <td>0.27</td>\n",
              "    </tr>\n",
              "    <tr>\n",
              "      <th>3</th>\n",
              "      <td>7</td>\n",
              "      <td>-0.29</td>\n",
              "    </tr>\n",
              "    <tr>\n",
              "      <th>18</th>\n",
              "      <td>7</td>\n",
              "      <td>-0.34</td>\n",
              "    </tr>\n",
              "    <tr>\n",
              "      <th>17</th>\n",
              "      <td>7</td>\n",
              "      <td>1.36</td>\n",
              "    </tr>\n",
              "    <tr>\n",
              "      <th>9</th>\n",
              "      <td>8</td>\n",
              "      <td>0.68</td>\n",
              "    </tr>\n",
              "    <tr>\n",
              "      <th>7</th>\n",
              "      <td>8</td>\n",
              "      <td>-0.32</td>\n",
              "    </tr>\n",
              "    <tr>\n",
              "      <th>8</th>\n",
              "      <td>8</td>\n",
              "      <td>1.02</td>\n",
              "    </tr>\n",
              "    <tr>\n",
              "      <th>16</th>\n",
              "      <td>8</td>\n",
              "      <td>1.38</td>\n",
              "    </tr>\n",
              "    <tr>\n",
              "      <th>19</th>\n",
              "      <td>9</td>\n",
              "      <td>0.67</td>\n",
              "    </tr>\n",
              "    <tr>\n",
              "      <th>15</th>\n",
              "      <td>9</td>\n",
              "      <td>1.36</td>\n",
              "    </tr>\n",
              "    <tr>\n",
              "      <th>25</th>\n",
              "      <td>9</td>\n",
              "      <td>-0.99</td>\n",
              "    </tr>\n",
              "    <tr>\n",
              "      <th>27</th>\n",
              "      <td>9</td>\n",
              "      <td>0.03</td>\n",
              "    </tr>\n",
              "    <tr>\n",
              "      <th>10</th>\n",
              "      <td>10</td>\n",
              "      <td>-0.34</td>\n",
              "    </tr>\n",
              "    <tr>\n",
              "      <th>6</th>\n",
              "      <td>10</td>\n",
              "      <td>-0.97</td>\n",
              "    </tr>\n",
              "    <tr>\n",
              "      <th>26</th>\n",
              "      <td>10</td>\n",
              "      <td>0.37</td>\n",
              "    </tr>\n",
              "    <tr>\n",
              "      <th>20</th>\n",
              "      <td>10</td>\n",
              "      <td>1.18</td>\n",
              "    </tr>\n",
              "  </tbody>\n",
              "</table>\n",
              "</div>"
            ],
            "text/plain": [
              "    Satisfaction  Loyalty\n",
              "5              1    -1.66\n",
              "13             2     0.67\n",
              "23             3    -0.96\n",
              "21             3    -1.69\n",
              "28             3    -1.36\n",
              "0              4    -1.33\n",
              "22             4     1.04\n",
              "4              4     1.06\n",
              "12             5    -1.69\n",
              "11             5     0.39\n",
              "29             5     0.73\n",
              "2              5    -0.99\n",
              "24             6     1.03\n",
              "1              6    -0.28\n",
              "14             7     0.27\n",
              "3              7    -0.29\n",
              "18             7    -0.34\n",
              "17             7     1.36\n",
              "9              8     0.68\n",
              "7              8    -0.32\n",
              "8              8     1.02\n",
              "16             8     1.38\n",
              "19             9     0.67\n",
              "15             9     1.36\n",
              "25             9    -0.99\n",
              "27             9     0.03\n",
              "10            10    -0.34\n",
              "6             10    -0.97\n",
              "26            10     0.37\n",
              "20            10     1.18"
            ]
          },
          "metadata": {
            "tags": []
          },
          "execution_count": 50
        }
      ]
    },
    {
      "cell_type": "code",
      "metadata": {
        "id": "5B4LHOz-t4qM",
        "colab_type": "code",
        "outputId": "a61a214e-f49c-433b-cd7b-63b44a406197",
        "colab": {
          "base_uri": "https://localhost:8080/",
          "height": 245
        }
      },
      "source": [
        "df.groupby(\"Satisfaction\").size()"
      ],
      "execution_count": 0,
      "outputs": [
        {
          "output_type": "execute_result",
          "data": {
            "text/plain": [
              "Satisfaction\n",
              "1     1\n",
              "2     1\n",
              "3     3\n",
              "4     3\n",
              "5     4\n",
              "6     2\n",
              "7     4\n",
              "8     4\n",
              "9     4\n",
              "10    4\n",
              "dtype: int64"
            ]
          },
          "metadata": {
            "tags": []
          },
          "execution_count": 52
        }
      ]
    },
    {
      "cell_type": "code",
      "metadata": {
        "id": "f6W7z9zFuDa_",
        "colab_type": "code",
        "outputId": "affdcdf9-2d83-4605-9098-53d8f4ee47b4",
        "colab": {
          "base_uri": "https://localhost:8080/",
          "height": 36
        }
      },
      "source": [
        "print(df.Satisfaction.mean())"
      ],
      "execution_count": 0,
      "outputs": [
        {
          "output_type": "stream",
          "text": [
            "6.4\n"
          ],
          "name": "stdout"
        }
      ]
    },
    {
      "cell_type": "markdown",
      "metadata": {
        "id": "JPSjegQunA0N",
        "colab_type": "text"
      },
      "source": [
        "# MatPlotLib\n",
        "- Visualizar graficas\n",
        "- Lineal\n",
        "- Scater\n",
        "- Bar"
      ]
    },
    {
      "cell_type": "code",
      "metadata": {
        "id": "yfshjaoGuY6a",
        "colab_type": "code",
        "outputId": "7d6074e0-80fa-487b-d046-57f3e25b3429",
        "colab": {
          "base_uri": "https://localhost:8080/",
          "height": 265
        }
      },
      "source": [
        "import matplotlib.pyplot as plt\n",
        "\n",
        "\n",
        "plt.plot([1,2,3,4], [1,4,9,16])\n",
        "plt.show()"
      ],
      "execution_count": 0,
      "outputs": [
        {
          "output_type": "display_data",
          "data": {
            "image/png": "[encoded data removed]",
            "text/plain": [
              "<Figure size 432x288 with 1 Axes>"
            ]
          },
          "metadata": {
            "tags": []
          }
        }
      ]
    },
    {
      "cell_type": "code",
      "metadata": {
        "id": "fCmnn8ezuhwJ",
        "colab_type": "code",
        "outputId": "0dc094a5-4e6b-4317-d4e5-3e4575b0b90f",
        "colab": {
          "base_uri": "https://localhost:8080/",
          "height": 295
        }
      },
      "source": [
        "plt.plot([1,2,3,4],[1,4,9,16])\n",
        "plt.title(\"First plot\")\n",
        "plt.xlabel(\"X label\")\n",
        "plt.ylabel(\"Y label\")\n",
        "plt.show()"
      ],
      "execution_count": 0,
      "outputs": [
        {
          "output_type": "display_data",
          "data": {
            "image/png": "[encoded data removed]",
            "text/plain": [
              "<Figure size 432x288 with 1 Axes>"
            ]
          },
          "metadata": {
            "tags": []
          }
        }
      ]
    },
    {
      "cell_type": "code",
      "metadata": {
        "id": "o4sDJdpYu2Id",
        "colab_type": "code",
        "outputId": "90501dc4-0f6c-471c-8726-a3ca46f3359b",
        "colab": {
          "base_uri": "https://localhost:8080/",
          "height": 295
        }
      },
      "source": [
        "divisions = [\"DivA\", \"DivB\", \"DivC\", \"DivD\"]\n",
        "averages = [70,82,73, 65]\n",
        "\n",
        "plt.bar(divisions, averages, color=\"green\")\n",
        "plt.title(\"Bar Graph\")\n",
        "plt.xlabel(\"Divisions\")\n",
        "plt.ylabel(\"Marks\")\n",
        "plt.show()"
      ],
      "execution_count": 0,
      "outputs": [
        {
          "output_type": "display_data",
          "data": {
            "image/png": "[encoded data removed]",
            "text/plain": [
              "<Figure size 432x288 with 1 Axes>"
            ]
          },
          "metadata": {
            "tags": []
          }
        }
      ]
    },
    {
      "cell_type": "code",
      "metadata": {
        "id": "FLjaXzSAvGwl",
        "colab_type": "code",
        "outputId": "f17f0157-8b86-43a2-9d08-5f6a097672c6",
        "colab": {
          "base_uri": "https://localhost:8080/",
          "height": 295
        }
      },
      "source": [
        "height = np.array([167,170,149,165,184,169])\n",
        "width = np.array([84,74,66,89,77,40])\n",
        "plt.scatter(height, width)\n",
        "plt.title(\"Scatter Plot\")\n",
        "plt.xlabel(\"Height\")\n",
        "plt.ylabel(\"Width\")\n",
        "plt.show()"
      ],
      "execution_count": 0,
      "outputs": [
        {
          "output_type": "display_data",
          "data": {
            "image/png": "[encoded data removed]",
            "text/plain": [
              "<Figure size 432x288 with 1 Axes>"
            ]
          },
          "metadata": {
            "tags": []
          }
        }
      ]
    },
    {
      "cell_type": "code",
      "metadata": {
        "id": "usafvIOavFgH",
        "colab_type": "code",
        "outputId": "a1c4672c-21e8-4a75-8aee-340ce0511f5b",
        "colab": {
          "base_uri": "https://localhost:8080/",
          "height": 284
        }
      },
      "source": [
        "df.plot()"
      ],
      "execution_count": 0,
      "outputs": [
        {
          "output_type": "execute_result",
          "data": {
            "text/plain": [
              "<matplotlib.axes._subplots.AxesSubplot at 0x7fc63a8a8e48>"
            ]
          },
          "metadata": {
            "tags": []
          },
          "execution_count": 64
        },
        {
          "output_type": "display_data",
          "data": {
            "image/png": "[encoded data removed]",
            "text/plain": [
              "<Figure size 432x288 with 1 Axes>"
            ]
          },
          "metadata": {
            "tags": []
          }
        }
      ]
    },
    {
      "cell_type": "code",
      "metadata": {
        "id": "PJSAlkN7wLgH",
        "colab_type": "code",
        "outputId": "a5db60b1-aa75-45d8-e44b-e617dda3748b",
        "colab": {
          "base_uri": "https://localhost:8080/",
          "height": 287
        }
      },
      "source": [
        "df.Satisfaction.plot(kind=\"bar\")"
      ],
      "execution_count": 0,
      "outputs": [
        {
          "output_type": "execute_result",
          "data": {
            "text/plain": [
              "<matplotlib.axes._subplots.AxesSubplot at 0x7fc63d347898>"
            ]
          },
          "metadata": {
            "tags": []
          },
          "execution_count": 66
        },
        {
          "output_type": "display_data",
          "data": {
            "image/png": "[encoded data removed]",
            "text/plain": [
              "<Figure size 432x288 with 1 Axes>"
            ]
          },
          "metadata": {
            "tags": []
          }
        }
      ]
    },
    {
      "cell_type": "code",
      "metadata": {
        "id": "Zfu41kBzwQAA",
        "colab_type": "code",
        "outputId": "74c1909f-beb2-4381-ef7e-c1e50a08d86e",
        "colab": {
          "base_uri": "https://localhost:8080/",
          "height": 299
        }
      },
      "source": [
        "df.plot.scatter(x=\"Satisfaction\", y=\"Loyalty\")"
      ],
      "execution_count": 0,
      "outputs": [
        {
          "output_type": "execute_result",
          "data": {
            "text/plain": [
              "<matplotlib.axes._subplots.AxesSubplot at 0x7fc63d44a390>"
            ]
          },
          "metadata": {
            "tags": []
          },
          "execution_count": 69
        },
        {
          "output_type": "display_data",
          "data": {
            "image/png": "[encoded data removed]",
            "text/plain": [
              "<Figure size 432x288 with 1 Axes>"
            ]
          },
          "metadata": {
            "tags": []
          }
        }
      ]
    },
    {
      "cell_type": "markdown",
      "metadata": {
        "id": "wvV3RueZw83X",
        "colab_type": "text"
      },
      "source": [
        "# Ejercicios\n",
        "- Crea un vector \"v\" de 5 unidades con todo 0\n",
        "- Crea un vector \"w\" de 3 unidades con todo 9\n",
        "- Crea una matriz \"m\" 2,2 con cualquier valor\n",
        "- Crear una matriz unitaria\n",
        "- Haz el dot product de la matrix \"m\" con el vector \"a\"\n",
        "\n",
        "- Carga este CSV (https://drive.google.com/open?id=1uRynZPOrDfmzOjolJbLsLZ17KSFPEKew) en un dataframe\n",
        "- Has un resumen del dataframe\n",
        "- Selecciona solo la columna precio\n",
        "- Ordena la tabla por metros cuadrados (sqft)\n",
        "- Saca la media de precio de las casas\n",
        "\n",
        "- Crea una grafica lineal con cualquier dato\n",
        "- Muestra una grafica de barras con los precios de los primeros 10 casas\n"
      ]
    }
  ]
}