{
  "nbformat": 4,
  "nbformat_minor": 0,
  "metadata": {
    "colab": {
      "name": "1.-Colab&Python.ipynb",
      "provenance": [],
      "toc_visible": true
    },
    "kernelspec": {
      "name": "python3",
      "display_name": "Python 3"
    }
  },
  "cells": [
    {
      "cell_type": "markdown",
      "metadata": {
        "id": "1bsNcxii4aMY",
        "colab_type": "text"
      },
      "source": [
        "# Repaso"
      ]
    },
    {
      "cell_type": "markdown",
      "metadata": {
        "id": "mdY4Yyb6mL3k",
        "colab_type": "text"
      },
      "source": [
        "\n",
        "## Documento Jupyter\n",
        "- Crear documento\n",
        "- Como funciona\n",
        "- Texto vs codigo\n",
        "- Abrir documento desde drive\n",
        "- Abrir documento github"
      ]
    },
    {
      "cell_type": "markdown",
      "metadata": {
        "id": "XsTqurQjmUzf",
        "colab_type": "text"
      },
      "source": [
        "## Manipulacion archivos\n",
        "- Subir archivo csv\n",
        "- Montar carpeta drive\n",
        "- Cargar archivo desde drive"
      ]
    },
    {
      "cell_type": "code",
      "metadata": {
        "id": "8XfRk5Ym4F--",
        "colab_type": "code",
        "outputId": "370cb066-9152-4de5-ebfa-8afccfbfb922",
        "colab": {
          "base_uri": "https://localhost:8080/",
          "height": 132
        }
      },
      "source": [
        "from google.colab import drive\n",
        "drive.mount('/content/drive')"
      ],
      "execution_count": 0,
      "outputs": [
        {
          "output_type": "stream",
          "text": [
            "Go to this URL in a browser: https://accounts.google.com/o/oauth2/auth?client_id=947318989803-6bn6qk8qdgf4n4g3pfee6491hc0brc4i.apps.googleusercontent.com&redirect_uri=urn%3Aietf%3Awg%3Aoauth%3A2.0%3Aoob&scope=email%20https%3A%2F%2Fwww.googleapis.com%2Fauth%2Fdocs.test%20https%3A%2F%2Fwww.googleapis.com%2Fauth%2Fdrive%20https%3A%2F%2Fwww.googleapis.com%2Fauth%2Fdrive.photos.readonly%20https%3A%2F%2Fwww.googleapis.com%2Fauth%2Fpeopleapi.readonly&response_type=code\n",
            "\n",
            "Enter your authorization code:\n",
            "··········\n",
            "Mounted at /content/drive\n"
          ],
          "name": "stdout"
        }
      ]
    },
    {
      "cell_type": "markdown",
      "metadata": {
        "id": "obfahbvsmQd3",
        "colab_type": "text"
      },
      "source": [
        "## Basic python\n",
        "- Operaciones basicas\n",
        "- Crear vector\n",
        "- Crear matriz"
      ]
    },
    {
      "cell_type": "code",
      "metadata": {
        "id": "L2pclPgo28Hq",
        "colab_type": "code",
        "outputId": "ef0abb67-32d8-471e-d577-145b8fb2f1fa",
        "colab": {
          "base_uri": "https://localhost:8080/",
          "height": 55
        }
      },
      "source": [
        "a = 5+10\n",
        "b = 20*4\n",
        "texto = \"Este es un texto\"\n",
        "print(a)\n",
        "\n",
        "b"
      ],
      "execution_count": 0,
      "outputs": [
        {
          "output_type": "stream",
          "text": [
            "15\n"
          ],
          "name": "stdout"
        },
        {
          "output_type": "execute_result",
          "data": {
            "text/plain": [
              "80"
            ]
          },
          "metadata": {
            "tags": []
          },
          "execution_count": 2
        }
      ]
    },
    {
      "cell_type": "code",
      "metadata": {
        "id": "unaFCM_Z3CFN",
        "colab_type": "code",
        "outputId": "23bd7f73-6fb5-44d0-f511-1797bd5ec242",
        "colab": {
          "base_uri": "https://localhost:8080/",
          "height": 36
        }
      },
      "source": [
        "array = [0,1,2]\n",
        "array2 = [5,14, 23]\n",
        "array"
      ],
      "execution_count": 0,
      "outputs": [
        {
          "output_type": "execute_result",
          "data": {
            "text/plain": [
              "[0, 1, 2]"
            ]
          },
          "metadata": {
            "tags": []
          },
          "execution_count": 5
        }
      ]
    },
    {
      "cell_type": "code",
      "metadata": {
        "id": "YTud29N43Q-G",
        "colab_type": "code",
        "outputId": "f4f8986f-559b-4f80-801e-47f0a8bed184",
        "colab": {
          "base_uri": "https://localhost:8080/",
          "height": 36
        }
      },
      "source": [
        "array[1]"
      ],
      "execution_count": 0,
      "outputs": [
        {
          "output_type": "execute_result",
          "data": {
            "text/plain": [
              "1"
            ]
          },
          "metadata": {
            "tags": []
          },
          "execution_count": 6
        }
      ]
    },
    {
      "cell_type": "code",
      "metadata": {
        "id": "xoFuvZTR3Pto",
        "colab_type": "code",
        "outputId": "e16c9b02-6096-4aab-c40f-2eb0d03f573a",
        "colab": {
          "base_uri": "https://localhost:8080/",
          "height": 131
        }
      },
      "source": [
        "numeros = [2, 5, 62, 5, 42, 52, 48, 5]\n",
        "\n",
        "print(numeros[2:5])\n",
        "print(numeros[:3])\n",
        "print(numeros[5:])\n",
        "print(numeros[:-2])\n",
        "print(numeros[:])\n",
        "\n",
        "numeros[0] = 99\n",
        "numeros"
      ],
      "execution_count": 0,
      "outputs": [
        {
          "output_type": "stream",
          "text": [
            "[62, 5, 42]\n",
            "[2, 5, 62]\n",
            "[52, 48, 5]\n",
            "[2, 5, 62, 5, 42, 52]\n",
            "[2, 5, 62, 5, 42, 52, 48, 5]\n"
          ],
          "name": "stdout"
        },
        {
          "output_type": "execute_result",
          "data": {
            "text/plain": [
              "[99, 5, 62, 5, 42, 52, 48, 5]"
            ]
          },
          "metadata": {
            "tags": []
          },
          "execution_count": 9
        }
      ]
    },
    {
      "cell_type": "code",
      "metadata": {
        "id": "p469KTJr33Ir",
        "colab_type": "code",
        "outputId": "5b502c3a-a54d-4bb4-845b-88604d2ea2bf",
        "colab": {
          "base_uri": "https://localhost:8080/",
          "height": 36
        }
      },
      "source": [
        "matriz = [[0,1,2], [3,4,5]]\n",
        "matriz"
      ],
      "execution_count": 0,
      "outputs": [
        {
          "output_type": "execute_result",
          "data": {
            "text/plain": [
              "[[0, 1, 2], [3, 4, 5]]"
            ]
          },
          "metadata": {
            "tags": []
          },
          "execution_count": 11
        }
      ]
    },
    {
      "cell_type": "markdown",
      "metadata": {
        "id": "-n2ISkOC4hRD",
        "colab_type": "text"
      },
      "source": [
        "# Ejercicios\n",
        "- Abre un documento nuevo\n",
        "- Abre un documento desde github ( https://github.com/SaturdaysAI/Itinerario_MachineLearning/blob/master/module_1_introduction/1_1%20intro_to_python.ipynb )\n",
        "- Importa este csv a google colab ( https://drive.google.com/file/d/1nxr5XYg4JrwB_EtdWdyIwCT4gr85xfzb/view )\n",
        "- Crea un texto en colab que diga \"Hola mundo\"\n",
        "- Guarda una variable \"a\" que sea = 10 + 15\n",
        "- Muestra esa variable \"a\" en jupyter\n",
        "- Crea un vector que tenga valores { 0,1,2 }\n",
        "- Modifica el primer valor del vector, y cambialo por 6\n",
        "- Muestra solo los primeros dos valores de ese vector\n",
        "- Muestra los ultimos dos valores de ese vector\n",
        "- Crea una matriz unitaria de 2x2\n"
      ]
    }
  ]
}